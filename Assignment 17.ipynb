{
 "cells": [
  {
   "cell_type": "markdown",
   "id": "0db9b1e7",
   "metadata": {},
   "source": [
    "Q1. Explain the difference between greedy and non-greedy syntax with visual terms in as few words as possible. What is the bare minimum effort required to transform a greedy pattern into a non-greedy one? What characters or characters can you introduce or change?"
   ]
  },
  {
   "cell_type": "markdown",
   "id": "6a046093",
   "metadata": {},
   "source": [
    "Ans: The Main difference between Greedy and Non Greedy Match Syntax is The Greedy Match will try to match as many repetitions of the quantified pattern as possible Whereas The Non Greedy Match will try to match as few repetitions of the quantified pattern as possible"
   ]
  },
  {
   "cell_type": "code",
   "execution_count": 1,
   "id": "96ffca78",
   "metadata": {},
   "outputs": [
    {
     "name": "stdout",
     "output_type": "stream",
     "text": [
      "['vvvvvv', '']\n",
      "['', 'v', '', 'v', '', 'v', '', 'v', '', 'v', '', 'v', '']\n"
     ]
    }
   ],
   "source": [
    "import re\n",
    "print(re.findall(\"v*\", \"vvvvvv\")) # Greedy Match Synatx\n",
    "print(re.findall(\"v*?\", \"vvvvvv\")) # Non Greddy Syntax"
   ]
  },
  {
   "cell_type": "markdown",
   "id": "66d94239",
   "metadata": {},
   "source": [
    "Q2. When exactly does greedy versus non-greedy make a difference? What if you're looking for a non-greedy match but the only one available is greedy?"
   ]
  },
  {
   "cell_type": "markdown",
   "id": "246fee9c",
   "metadata": {},
   "source": [
    "Ans: The Greedy Match will try to match as many repetitions of the quantified pattern as possible. The Non Greedy Match will try to match as few repetitions of the quantified pattern as possible. If only Non Greedy Match is available, we can use other filtering or pattern matching methods of regex and further identify the required pattern."
   ]
  },
  {
   "cell_type": "markdown",
   "id": "9c09e195",
   "metadata": {},
   "source": [
    "Q3. In a simple match of a string, which looks only for one match and does not do any replacement, is the use of a nontagged group likely to make any practical difference?"
   ]
  },
  {
   "cell_type": "markdown",
   "id": "ce6158c5",
   "metadata": {},
   "source": [
    "Ans: In this Case The Non Tagged Group will not make any diffrence in this case."
   ]
  },
  {
   "cell_type": "code",
   "execution_count": 2,
   "id": "e95fb846",
   "metadata": {},
   "outputs": [
    {
     "name": "stdout",
     "output_type": "stream",
     "text": [
      "Phone number found -> 234\n",
      "Phone number found -> 234\n"
     ]
    }
   ],
   "source": [
    "import re\n",
    "phoneNumRegex = re.compile(r'\\d\\d\\d')\n",
    "num = phoneNumRegex.search('My number is 234-567-8901.')\n",
    "print(f'Phone number found -> {num.group()}') # Non Tagged group\n",
    "print(f'Phone number found -> {num.group(0)}') # Tagged Group"
   ]
  },
  {
   "cell_type": "markdown",
   "id": "6dccd154",
   "metadata": {},
   "source": [
    "Q4. Describe a scenario in which using a nontagged category would have a significant impact on the program's outcomes ?"
   ]
  },
  {
   "cell_type": "markdown",
   "id": "59d44858",
   "metadata": {},
   "source": [
    "Ans: Here in the below Code Snippet . decimal is not tagged or captured. It will useful in scenarios where the separator of value in a string is of no use and we need to capture only the values."
   ]
  },
  {
   "cell_type": "code",
   "execution_count": 4,
   "id": "5953194b",
   "metadata": {},
   "outputs": [
    {
     "data": {
      "text/plain": [
       "('135', '456')"
      ]
     },
     "execution_count": 4,
     "metadata": {},
     "output_type": "execute_result"
    }
   ],
   "source": [
    "import re\n",
    "text='135.456'\n",
    "pattern=r'(\\d+)(?:.)(\\d+)'\n",
    "regobj=re.compile(pattern)\n",
    "matobj=regobj.search(text)\n",
    "matobj.groups()"
   ]
  },
  {
   "cell_type": "markdown",
   "id": "01868950",
   "metadata": {},
   "source": [
    "Q5. Unlike a normal regex pattern, a look-ahead condition does not consume the characters it examines. Describe a situation in which this could make a difference in the results of your programme ?"
   ]
  },
  {
   "cell_type": "markdown",
   "id": "b792407a",
   "metadata": {},
   "source": [
    "Ans: While counting the number of multiple lines or mutiple sentence in a string the positive look ahead makes a difference, without which we wont get the correct count of lines or sentences in a string."
   ]
  },
  {
   "cell_type": "markdown",
   "id": "6b5c173a",
   "metadata": {},
   "source": [
    "Q6. In standard expressions, what is the difference between positive look-ahead and negative look-ahead ?"
   ]
  },
  {
   "cell_type": "markdown",
   "id": "2ea609c4",
   "metadata": {},
   "source": [
    "Ans: Positive Lookahead allows to add a condition for what follows. Negative Lookahead is similar, but it looks behind. That is, it allows to match a pattern only if there’s something before it."
   ]
  },
  {
   "cell_type": "markdown",
   "id": "08614b13",
   "metadata": {},
   "source": [
    "Q7. What is the benefit of referring to groups by name rather than by number in a standard expression?"
   ]
  },
  {
   "cell_type": "markdown",
   "id": "d07cc00b",
   "metadata": {},
   "source": [
    "Ans: Referring to groups by name rather than by number in a standard expression helps to keep the code clear and easy to understand"
   ]
  },
  {
   "cell_type": "markdown",
   "id": "415259e0",
   "metadata": {},
   "source": [
    "Q8. Can you identify repeated items within a target string using named groups, as in \"The cow jumped over the moon\"?"
   ]
  },
  {
   "cell_type": "code",
   "execution_count": 5,
   "id": "8d31e4c0",
   "metadata": {},
   "outputs": [
    {
     "data": {
      "text/plain": [
       "['The', 'the']"
      ]
     },
     "execution_count": 5,
     "metadata": {},
     "output_type": "execute_result"
    }
   ],
   "source": [
    "import re\n",
    "text = \"The cow jumped over the moon\"\n",
    "regobj=re.compile(r'(?P<w1>The)',re.I)\n",
    "regobj.findall(text)"
   ]
  },
  {
   "cell_type": "markdown",
   "id": "9618ab3a",
   "metadata": {},
   "source": [
    "Q9. When parsing a string, what is at least one thing that the Scanner interface does for you that the re.findall feature does not ?"
   ]
  },
  {
   "cell_type": "markdown",
   "id": "3570f49a",
   "metadata": {},
   "source": [
    "Ans: re.findall() module is used to search for all occurrences that match a given pattern. In contrast, re.search() will only return the first occurrence that matches the specified pattern. re.findall() will iterate over all the lines of the file and will return all non-overlapping matches of pattern in a single step."
   ]
  },
  {
   "cell_type": "markdown",
   "id": "10725e8f",
   "metadata": {},
   "source": [
    "Q10. Does a scanner object have to be named scanner?"
   ]
  },
  {
   "cell_type": "markdown",
   "id": "8de37a33",
   "metadata": {},
   "source": [
    "Ans: Yes, It may have any name."
   ]
  },
  {
   "cell_type": "code",
   "execution_count": null,
   "id": "bc73aca9",
   "metadata": {},
   "outputs": [],
   "source": []
  }
 ],
 "metadata": {
  "kernelspec": {
   "display_name": "Python 3 (ipykernel)",
   "language": "python",
   "name": "python3"
  },
  "language_info": {
   "codemirror_mode": {
    "name": "ipython",
    "version": 3
   },
   "file_extension": ".py",
   "mimetype": "text/x-python",
   "name": "python",
   "nbconvert_exporter": "python",
   "pygments_lexer": "ipython3",
   "version": "3.9.12"
  }
 },
 "nbformat": 4,
 "nbformat_minor": 5
}
