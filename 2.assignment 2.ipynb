{
 "cells": [
  {
   "cell_type": "markdown",
   "id": "bf2891fb",
   "metadata": {},
   "source": [
    "### Q1. What is the relationship between classes and modules?\n",
    "\n",
    "A Python class is like an blueprint mold for creating a new object. An object is anything that you wish to manipulate or change while working through the code. Every time a class object is instantiated, which is when we declare a variable, a new object is initiated from scratch\n",
    "\n",
    "Whereas in Python, Modules are simply files with the . py extension containing Python code that can be imported inside another Python Program. In simple terms, we can consider a module to be the same as a code library or a file that contains a set of functions/Classes that you want to include in your application."
   ]
  },
  {
   "cell_type": "markdown",
   "id": "861ff159",
   "metadata": {},
   "source": [
    "### Q2. How do you make instances and classes?\n",
    "\n",
    "For creating a class instance. we call a class by its name and pass the arguments which its __init__ method accepts.\n",
    "\n",
    "Example: ineuron = employe('Male',20000), Here ineuron is an instance of class employe with attriubutes 'Male' and 20000.\n",
    "\n",
    "Whereas for creating a class, we use the Class keyword. Class keyword is followed by classname and semicolon."
   ]
  },
  {
   "cell_type": "code",
   "execution_count": 31,
   "id": "61238776",
   "metadata": {},
   "outputs": [],
   "source": [
    "# Example: Here Employee is a class created with class keyword with arguments gender and salary.\n",
    "class Employee:\n",
    "    def __init__(self, gender,salary): \n",
    "        self.gender = gender \n",
    "        self.salary = salary"
   ]
  },
  {
   "cell_type": "markdown",
   "id": "15a7ef79",
   "metadata": {},
   "source": [
    "### Q3. Where and how should be class attributes created?\n",
    "\n",
    "Class attributes or Class level Attributes belong to the class itself. these attributes will be shared by all the instances of the class. Hence these attributes are usually created/defined in the top of class definiation outside all methods.\n",
    "\n",
    "Example: In the below code we are defining a class attribute called no_of_wheels which will be shared by all the instances of the class Car"
   ]
  },
  {
   "cell_type": "code",
   "execution_count": 34,
   "id": "fa45f6c3",
   "metadata": {},
   "outputs": [],
   "source": [
    "class Car: \n",
    "    no_of_wheels = 4; \n",
    "    # this is a class attribute\n",
    "    def __init__(self,color,price,engine): \n",
    "    # All this are instance attributes\n",
    "        self.color = color \n",
    "        self.price = priceself"
   ]
  },
  {
   "cell_type": "markdown",
   "id": "5c26ef83",
   "metadata": {},
   "source": [
    "### Q4. Where and how are instance attributes created?\n",
    "\n",
    "Instances attributes are passed to the class when an object of the class is created. Unlike class attributes, instance attributes are not shared by all objects of the classs. instead each object maintains its own copy of instance attributes at object level. whereas incase of class attributes all instances of class refer to a single copy. Usually instance attributes are defined within the __init__ method of class\n",
    "\n",
    "Example: In the below sample code we are creating a class Car with instance varaibles color, price, engine, which will be provided when an instance of class Car is created."
   ]
  },
  {
   "cell_type": "code",
   "execution_count": 7,
   "id": "1bbf8db1",
   "metadata": {},
   "outputs": [],
   "source": [
    "class Car:\n",
    "    def __init__(self,color,price,engine):\n",
    "        self.color = color # All this are instance attributes \n",
    "        self.price = price \n",
    "        self.engine = engine\n",
    "\n",
    "PUNCH = Car('WHITE', 1400000, 'electric')\n",
    "safari = Car('Black',2100000, 'petrol')\n",
    "\n",
    "# PUNCH, safari are both the instances of class Car with different instance variables"
   ]
  },
  {
   "cell_type": "markdown",
   "id": "05c7acde",
   "metadata": {},
   "source": [
    "### Q5. What does the term \"self\" in a Python class mean?\n",
    "\n",
    "self represents the instance of the class (it represents the object itself). By using the “self” keyword we can access the attributes and methods of the class with in the class in python. It binds the attributes with the given arguments."
   ]
  },
  {
   "cell_type": "code",
   "execution_count": 1,
   "id": "cc7eb6b0",
   "metadata": {},
   "outputs": [
    {
     "name": "stdout",
     "output_type": "stream",
     "text": [
      "{'color': 'WHITE', 'price': 1400000, 'engine': 'electric'}\n",
      "{'color': 'Black', 'price': 2100000, 'engine': 'petrol'}\n"
     ]
    }
   ],
   "source": [
    "class Car:\n",
    "    def __init__(self,color,price,engine):\n",
    "        self.color = color # All this are instance attributes\n",
    "        self.price = price\n",
    "        self.engine = engine\n",
    "\n",
    "PUNCH = Car('WHITE', 1400000, 'electric')\n",
    "safari = Car('Black',2100000, 'petrol')\n",
    "\n",
    "print(PUNCH.__dict__)\n",
    "print(safari.__dict__)\n"
   ]
  },
  {
   "cell_type": "markdown",
   "id": "3e50a713",
   "metadata": {},
   "source": [
    "### Q6. How does a Python class handle operator overloading?\n",
    "\n",
    "Python Classes handle operator overloading by using special methods called Magic methods. these special methods usually begin and end with __ (double underscore)\n",
    "Example: Magic methods for basic arithmetic operators are:\n",
    "\n",
    "+ -> __add__()\n",
    "- -> __sub__()\n",
    "* -> __mul__()\n",
    "/ -> __div__()"
   ]
  },
  {
   "cell_type": "code",
   "execution_count": 2,
   "id": "ced4e4a3",
   "metadata": {},
   "outputs": [
    {
     "name": "stdout",
     "output_type": "stream",
     "text": [
      "The total number of pages in 2 books is 300\n"
     ]
    }
   ],
   "source": [
    "class Book:\n",
    "    def __init__(self,pages):\n",
    "        self.pages = pages\n",
    "    def __add__(self,other):\n",
    "        return self.pages + other.pages\n",
    "b1 = Book(100)\n",
    "b2 = Book(200)\n",
    "print(f'The total number of pages in 2 books is {b1+b2}')"
   ]
  },
  {
   "cell_type": "markdown",
   "id": "0f17bdd8",
   "metadata": {},
   "source": [
    "### Q7. When do you consider allowing operator overloading of your classes?\n",
    "\n",
    "When we want to have different meaning for the same operator accroding to the context we use operator overloading.\n",
    "when we use same operator and it perform different for different data types "
   ]
  },
  {
   "cell_type": "code",
   "execution_count": 27,
   "id": "27f7e25d",
   "metadata": {},
   "outputs": [
    {
     "name": "stdout",
     "output_type": "stream",
     "text": [
      "30\n",
      "ineuron\n"
     ]
    }
   ],
   "source": [
    "class operator_overload:\n",
    "    def __init__(self,a,b):\n",
    "        self.a=a\n",
    "        self.b=b\n",
    "    def number_add(self):\n",
    "        return self.a+self.b\n",
    "    def srting_add(self):\n",
    "        return self.a+self.b\n",
    "    \n",
    "add=operator_overload(10,20)\n",
    "print(add.number_add())\n",
    "string=operator_overload(\"ineu\",\"ron\")\n",
    "print(string.srting_add())\n",
    "\n",
    "# in this case we use \"+\" operator it adds number but when we use string data type it behaves different \n",
    "# that is opearator oveloading"
   ]
  },
  {
   "cell_type": "markdown",
   "id": "f7dfbf0a",
   "metadata": {},
   "source": [
    "### Q8. What is the most popular form of operator overloading?\n",
    "\n",
    "The most popular form of operator overloading in python is by special methods called Magic methods. Which usually beign and end with double underscore ____."
   ]
  },
  {
   "cell_type": "code",
   "execution_count": 29,
   "id": "f96086b3",
   "metadata": {},
   "outputs": [
    {
     "name": "stdout",
     "output_type": "stream",
     "text": [
      "Sum -> 9\n",
      "String Concatenation -> inue ron\n"
     ]
    }
   ],
   "source": [
    "class A:\n",
    "    def __init__(self,a):\n",
    "        self.a = a\n",
    "    def __add__(self,o):\n",
    "        return self.a+o.a\n",
    "obj1 = A(4)\n",
    "obj2 = A(5)\n",
    "obj3 = A('inue')\n",
    "obj4 = A(' ron')\n",
    "print(f'Sum -> {obj1+obj2}')\n",
    "print(f'String Concatenation -> {obj3+obj4}')"
   ]
  },
  {
   "cell_type": "markdown",
   "id": "8eb5c10f",
   "metadata": {},
   "source": [
    "### Q9. What are the two most important concepts to grasp in order to comprehend Python OOP code?\n",
    "\n",
    "Classes and objects are the two concepts to comprehend python OOP code as more formally objects are entities that represent instances of general abstract concept called class\n",
    "\n",
    "Along with classes and objects the important concepts to grasp are:\n",
    "\n",
    "Inheritence\n",
    "Abstraction\n",
    "Polymorphism\n",
    "Encapsulation"
   ]
  },
  {
   "cell_type": "code",
   "execution_count": null,
   "id": "e8e1635e",
   "metadata": {},
   "outputs": [],
   "source": []
  }
 ],
 "metadata": {
  "kernelspec": {
   "display_name": "Python 3 (ipykernel)",
   "language": "python",
   "name": "python3"
  },
  "language_info": {
   "codemirror_mode": {
    "name": "ipython",
    "version": 3
   },
   "file_extension": ".py",
   "mimetype": "text/x-python",
   "name": "python",
   "nbconvert_exporter": "python",
   "pygments_lexer": "ipython3",
   "version": "3.9.12"
  }
 },
 "nbformat": 4,
 "nbformat_minor": 5
}
